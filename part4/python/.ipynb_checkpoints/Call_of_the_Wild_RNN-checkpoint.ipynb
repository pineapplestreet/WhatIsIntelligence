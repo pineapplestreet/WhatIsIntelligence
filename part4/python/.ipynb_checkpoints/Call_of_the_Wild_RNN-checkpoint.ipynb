{
 "cells": [
  {
   "cell_type": "markdown",
   "metadata": {
    "colab_type": "text",
    "id": "view-in-github"
   },
   "source": [
    "<a href=\"https://colab.research.google.com/github/abhaysrivastav/ComputerVision/blob/master/Chararacter_Level_RNN.ipynb\" target=\"_parent\"><img src=\"https://colab.research.google.com/assets/colab-badge.svg\" alt=\"Open In Colab\"/></a>"
   ]
  },
  {
   "cell_type": "markdown",
   "metadata": {
    "colab_type": "text",
    "id": "cLtLn8jnu8wS"
   },
   "source": [
    "## Prior Work\n",
    "\n",
    "This notebook is based on work by [abhaysrivastav](https://github.com/abhaysrivastav/ComputerVision). \n",
    "\n",
    "This network is based off of Andrej Karpathy's [post on RNNs](http://karpathy.github.io/2015/05/21/rnn-effectiveness/) and [implementation in Torch](https://github.com/karpathy/char-rnn). "
   ]
  },
  {
   "cell_type": "code",
   "execution_count": 84,
   "metadata": {
    "colab": {},
    "colab_type": "code",
    "id": "6gk9lV6zu8wb"
   },
   "outputs": [
    {
     "name": "stdout",
     "output_type": "stream",
     "text": [
      "All of our functions are here in memory....\n"
     ]
    }
   ],
   "source": [
    "# load all libraries and shared functions\n",
    "import numpy as np\n",
    "import torch\n",
    "from torch import nn\n",
    "import torch.nn.functional as F\n",
    "from shared_lstm_functions import *\n",
    "jojo_test()\n"
   ]
  },
  {
   "cell_type": "markdown",
   "metadata": {
    "colab_type": "text",
    "id": "QJfnA_beu8wo"
   },
   "source": [
    "## Load in Data\n",
    "\n",
    "We're going to use \"Call of the Wild\" here as our training text. "
   ]
  },
  {
   "cell_type": "code",
   "execution_count": 85,
   "metadata": {
    "colab": {},
    "colab_type": "code",
    "id": "lZcat6sSu8ws"
   },
   "outputs": [
    {
     "data": {
      "text/plain": [
       "'Chapter I. Into the Primitive\\n\\n“Old longings nomadic leap,\\nChafing at custom’s chain;\\nAgain from its'"
      ]
     },
     "execution_count": 85,
     "metadata": {},
     "output_type": "execute_result"
    }
   ],
   "source": [
    "# open text file and read in data as `text`\n",
    "with open('/Users/joshpause/Desktop/Experiments/WhatIsIntelligence/part4/data/the_call_of_the_wild.txt', 'r') as f:\n",
    "    text = f.read()\n",
    "text[:100]    "
   ]
  },
  {
   "cell_type": "code",
   "execution_count": 86,
   "metadata": {
    "colab": {},
    "colab_type": "code",
    "id": "aW5XUbQau8w8"
   },
   "outputs": [
    {
     "data": {
      "text/plain": [
       "array([46,  8, 60, 71, 35, 28, 29, 23, 50, 36, 23, 50, 47, 35,  4, 23, 35,\n",
       "        8, 28, 23, 43, 29, 24, 65, 24, 35, 24,  5, 28,  9,  9, 64, 19, 58,\n",
       "        6, 23, 58,  4, 47, 40, 24, 47, 40,  0, 23, 47,  4, 65, 60,  6, 24,\n",
       "       42, 23, 58, 28, 60, 71, 30,  9, 46,  8, 60, 66, 24, 47, 40, 23, 60,\n",
       "       35, 23, 42, 41,  0, 35,  4, 65, 68,  0, 23, 42,  8, 60, 24, 47, 51,\n",
       "        9, 55, 40, 60, 24, 47, 23, 66, 29,  4, 65, 23, 24, 35,  0])"
      ]
     },
     "execution_count": 86,
     "metadata": {},
     "output_type": "execute_result"
    }
   ],
   "source": [
    "# encode the text and map each character to an integer and vice versa\n",
    "chars = tuple(set(text))\n",
    "int2char = dict(enumerate(chars))\n",
    "char2int = {ch: ii for ii, ch in int2char.items()}\n",
    "encoded = np.array([char2int[ch] for ch in text])\n",
    "encoded[:100]"
   ]
  },
  {
   "cell_type": "code",
   "execution_count": 87,
   "metadata": {
    "colab": {},
    "colab_type": "code",
    "id": "FicPDcILu8yS"
   },
   "outputs": [
    {
     "name": "stdout",
     "output_type": "stream",
     "text": [
      "x\n",
      " [[46  8 60 71 35 28 29 23 50 36]\n",
      " [23 35  8 28 65 30 23 60 47  6]\n",
      " [48 60 29  6 23 11 58 41 47  6]\n",
      " [60 47 35 28  6 23 24 35 36 23]\n",
      " [42  8 36 23 56 28 23  6 24  6]\n",
      " [ 0 23 60 47  6 23 60 58 58 30]\n",
      " [23  8 24 65 36 23 56 24  0 23]\n",
      " [47  6 23 58 41 29 24 47 40 30]\n",
      " [ 5 28 47 23 69 60 35 35  8 28]\n",
      " [23 35  8 28  9 71 60 29 35 47]]\n",
      "\n",
      "y\n",
      " [[ 8 60 71 35 28 29 23 50 36 23]\n",
      " [35  8 28 65 30 23 60 47  6 23]\n",
      " [60 29  6 23 11 58 41 47  6 28]\n",
      " [47 35 28  6 23 24 35 36 23 56]\n",
      " [ 8 36 23 56 28 23  6 24  6 23]\n",
      " [23 60 47  6 23 60 58 58 30 23]\n",
      " [ 8 24 65 36 23 56 24  0 23 65]\n",
      " [ 6 23 58 41 29 24 47 40 30 23]\n",
      " [28 47 23 69 60 35 35  8 28 48]\n",
      " [35  8 28  9 71 60 29 35 47 28]]\n"
     ]
    }
   ],
   "source": [
    "batches = get_batches(encoded, 10, 50)\n",
    "x, y = next(batches)\n",
    "print('x\\n', x[:10, :10])\n",
    "print('\\ny\\n', y[:10, :10])"
   ]
  },
  {
   "cell_type": "markdown",
   "metadata": {
    "colab_type": "text",
    "id": "aHx2ANO7u8zZ"
   },
   "source": [
    "## Time to train"
   ]
  },
  {
   "cell_type": "code",
   "execution_count": 88,
   "metadata": {
    "colab": {},
    "colab_type": "code",
    "id": "0qiT-SbFu8zd"
   },
   "outputs": [],
   "source": [
    "if 'net' in locals():\n",
    "    del net"
   ]
  },
  {
   "cell_type": "code",
   "execution_count": 89,
   "metadata": {
    "colab": {},
    "colab_type": "code",
    "id": "Zbk2eCmZu8zo",
    "outputId": "19dbcb2c-2fed-4828-a342-9f0de9ea521d"
   },
   "outputs": [
    {
     "name": "stdout",
     "output_type": "stream",
     "text": [
      "CharRNN(\n",
      "  (lstm): LSTM(74, 82, num_layers=3, batch_first=True, dropout=0.5)\n",
      "  (dropout): Dropout(p=0.5, inplace=False)\n",
      "  (fc): Linear(in_features=82, out_features=74, bias=True)\n",
      ")\n"
     ]
    }
   ],
   "source": [
    "# define and print the net\n",
    "net = CharRNN(chars, n_hidden=82, n_layers=3, drop_prob=0.5)\n",
    "print(net)"
   ]
  },
  {
   "cell_type": "code",
   "execution_count": null,
   "metadata": {
    "colab": {},
    "colab_type": "code",
    "id": "xbGQ3XeIu8zz",
    "outputId": "c4cbf477-7a94-45fd-b1dc-49292997a00d"
   },
   "outputs": [],
   "source": [
    "n_seqs = 128 # Number of sequences running through the network in one pass.\n",
    "n_steps = 100 # Number of characters in the sequence the network is trained on. Larger is better typically, the network will learn more long range dependencies. But it takes longer to train. 100 is typically a good number here.\n",
    "n_epochs = 200 # Number of epochs\n",
    "train(net, encoded, epochs=n_epochs, n_seqs=n_seqs, n_steps=n_steps, lr=0.001, cuda=False, print_every=10)"
   ]
  },
  {
   "cell_type": "markdown",
   "metadata": {
    "colab_type": "text",
    "id": "785uFkvgu80D"
   },
   "source": [
    "## Hyperparameters\n",
    "\n",
    "Here are the hyperparameters for the network.\n",
    "\n",
    "In defining the model:\n",
    "* `n_hidden` - The number of units in the hidden layers.\n",
    "* `n_layers` - Number of hidden LSTM layers to use.\n",
    "\n",
    "We assume that dropout probability and learning rate will be kept at the default, in this example.\n",
    "\n",
    "And in training:\n",
    "* `n_seqs` - Number of sequences running through the network in one pass.\n",
    "* `n_steps` - Number of characters in the sequence the network is trained on. Larger is better typically, the network will learn more long range dependencies. But it takes longer to train. 100 is typically a good number here.\n",
    "* `lr` - Learning rate for training\n",
    "\n",
    "Here's some good advice from Andrej Karpathy on training the network. I'm going to copy it in here for your benefit, but also link to [where it originally came from](https://github.com/karpathy/char-rnn#tips-and-tricks).\n",
    "\n",
    "> ## Tips and Tricks\n",
    "\n",
    ">### Monitoring Validation Loss vs. Training Loss\n",
    ">If you're somewhat new to Machine Learning or Neural Networks it can take a bit of expertise to get good models. The most important quantity to keep track of is the difference between your training loss (printed during training) and the validation loss (printed once in a while when the RNN is run on the validation data (by default every 1000 iterations)). In particular:\n",
    "\n",
    "> - If your training loss is much lower than validation loss then this means the network might be **overfitting**. Solutions to this are to decrease your network size, or to increase dropout. For example you could try dropout of 0.5 and so on.\n",
    "> - If your training/validation loss are about equal then your model is **underfitting**. Increase the size of your model (either number of layers or the raw number of neurons per layer)\n",
    "\n",
    "> ### Approximate number of parameters\n",
    "\n",
    "> The two most important parameters that control the model are `n_hidden` and `n_layers`. I would advise that you always use `n_layers` of either 2/3. The `n_hidden` can be adjusted based on how much data you have. The two important quantities to keep track of here are:\n",
    "\n",
    "> - The number of parameters in your model. This is printed when you start training.\n",
    "> - The size of your dataset. 1MB file is approximately 1 million characters.\n",
    "\n",
    ">These two should be about the same order of magnitude. It's a little tricky to tell. Here are some examples:\n",
    "\n",
    "> - I have a 100MB dataset and I'm using the default parameter settings (which currently print 150K parameters). My data size is significantly larger (100 mil >> 0.15 mil), so I expect to heavily underfit. I am thinking I can comfortably afford to make `n_hidden` larger.\n",
    "> - I have a 10MB dataset and running a 10 million parameter model. I'm slightly nervous and I'm carefully monitoring my validation loss. If it's larger than my training loss then I may want to try to increase dropout a bit and see if that helps the validation loss.\n",
    "\n",
    "> ### Best models strategy\n",
    "\n",
    ">The winning strategy to obtaining very good models (if you have the compute time) is to always err on making the network larger (as large as you're willing to wait for it to compute) and then try different dropout values (between 0,1). Whatever model has the best validation performance (the loss, written in the checkpoint filename, low is good) is the one you should use in the end.\n",
    "\n",
    ">It is very common in deep learning to run many different models with many different hyperparameter settings, and in the end take whatever checkpoint gave the best validation performance.\n",
    "\n",
    ">By the way, the size of your training and validation splits are also parameters. Make sure you have a decent amount of data in your validation set or otherwise the validation performance will be noisy and not very informative."
   ]
  },
  {
   "cell_type": "code",
   "execution_count": 76,
   "metadata": {
    "colab": {},
    "colab_type": "code",
    "id": "D88yJ4RMu80K"
   },
   "outputs": [],
   "source": [
    "# save the model\n",
    "model_name = 'cotw_rnn_v12.net'\n",
    "\n",
    "checkpoint = {'n_hidden': net.n_hidden,\n",
    "              'n_layers': net.n_layers,\n",
    "              'state_dict': net.state_dict(),\n",
    "              'tokens': net.chars}\n",
    "\n",
    "with open('models/'+model_name, 'wb') as f:\n",
    "    torch.save(checkpoint, f)"
   ]
  },
  {
   "cell_type": "code",
   "execution_count": 68,
   "metadata": {},
   "outputs": [
    {
     "data": {
      "text/plain": [
       "166862"
      ]
     },
     "execution_count": 68,
     "metadata": {},
     "output_type": "execute_result"
    }
   ],
   "source": [
    "sum(p.numel() for p in net.parameters())"
   ]
  },
  {
   "cell_type": "code",
   "execution_count": null,
   "metadata": {},
   "outputs": [],
   "source": []
  }
 ],
 "metadata": {
  "colab": {
   "include_colab_link": true,
   "name": "Chararacter-Level RNN.ipynb",
   "provenance": [],
   "version": "0.3.2"
  },
  "kernelspec": {
   "display_name": "Python 3 (ipykernel)",
   "language": "python",
   "name": "python3"
  },
  "language_info": {
   "codemirror_mode": {
    "name": "ipython",
    "version": 3
   },
   "file_extension": ".py",
   "mimetype": "text/x-python",
   "name": "python",
   "nbconvert_exporter": "python",
   "pygments_lexer": "ipython3",
   "version": "3.8.12"
  }
 },
 "nbformat": 4,
 "nbformat_minor": 1
}
